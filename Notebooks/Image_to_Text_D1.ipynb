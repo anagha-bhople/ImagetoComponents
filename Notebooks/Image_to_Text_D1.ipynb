{
 "cells": [
  {
   "cell_type": "code",
   "execution_count": 1,
   "metadata": {
    "executionInfo": {
     "elapsed": 2611,
     "status": "ok",
     "timestamp": 1660033582944,
     "user": {
      "displayName": "anagha bhople",
      "userId": "17748642699824049852"
     },
     "user_tz": -330
    },
    "id": "lEoU6K-MhUGz"
   },
   "outputs": [],
   "source": [
    "import os\n",
    "import re\n",
    "import numpy as np\n",
    "import matplotlib.pyplot as plt\n",
    "import tensorflow as tf\n",
    "from tensorflow import keras\n",
    "from tensorflow.keras import layers\n",
    "from tensorflow.keras.applications import efficientnet\n",
    "from tensorflow.keras.layers import TextVectorization\n",
    "seed = 111\n",
    "np.random.seed(seed)\n",
    "tf.random.set_seed(seed)"
   ]
  },
  {
   "cell_type": "code",
   "execution_count": 2,
   "metadata": {
    "executionInfo": {
     "elapsed": 7,
     "status": "ok",
     "timestamp": 1660033582945,
     "user": {
      "displayName": "anagha bhople",
      "userId": "17748642699824049852"
     },
     "user_tz": -330
    },
    "id": "UzGvILmGiDbO"
   },
   "outputs": [],
   "source": [
    "# Path to the images\n",
    "PATH = \"../Data/D1/\"\n",
    "\n",
    "# Desired image dimensions\n",
    "IMAGE_SIZE = (512, 512)\n",
    "\n",
    "# Vocabulary size\n",
    "VOCAB_SIZE = 500\n",
    "\n",
    "\n",
    "# Dimension for the image embeddings and token embeddings\n",
    "EMBED_DIM = 512\n",
    "\n",
    "# Per-layer units in the feed-forward network\n",
    "FF_DIM = 512\n",
    "\n",
    "# Other training parameters\n",
    "BATCH_SIZE = 32\n",
    "EPOCHS = 30\n",
    "AUTOTUNE = tf.data.AUTOTUNE"
   ]
  },
  {
   "cell_type": "code",
   "execution_count": 3,
   "metadata": {
    "colab": {
     "base_uri": "https://localhost:8080/"
    },
    "executionInfo": {
     "elapsed": 5488,
     "status": "ok",
     "timestamp": 1660033588428,
     "user": {
      "displayName": "anagha bhople",
      "userId": "17748642699824049852"
     },
     "user_tz": -330
    },
    "id": "jL_Dq_aKiWbR",
    "outputId": "d6b6b111-f7a9-472d-b2f2-01b8dc5c303f"
   },
   "outputs": [
    {
     "name": "stdout",
     "output_type": "stream",
     "text": [
      "Number of training samples:  240\n",
      "Number of validation samples:  60\n"
     ]
    }
   ],
   "source": [
    "def load_captions_data():\n",
    "    \"\"\"Loads captions (text) data and maps them to corresponding images.\n",
    "\n",
    "    Args:\n",
    "        filename: Path to the text file containing caption data.\n",
    "\n",
    "    Returns:\n",
    "        caption_mapping: Dictionary mapping image names and the corresponding captions\n",
    "        text_data: List containing all the available captions\n",
    "    \"\"\"\n",
    "    import os\n",
    "    # for file as os.listdir(PATH+'TEXT_LABELS'):\n",
    "    #     caption_data = caption_file.readlines()\n",
    "    caption_mapping = {}\n",
    "    text_data = []\n",
    "        # images_to_skip = set()\n",
    "    for filename in os.listdir(PATH+'TEXT_LABELS/'):\n",
    "    \n",
    "        with open(PATH+'TEXT_LABELS/'+filename) as file:\n",
    "            file_data = file.readlines()\n",
    "            line = \" \".join(file_data)\n",
    "            line = line.replace(\"\\n\",\" <NEWLINE>\")\n",
    "            line = line.replace(\"{\",\"<BRACES>\")\n",
    "            line = line.replace(\"}\",\"<BRACEE>\")\n",
    "            # words = line.split(' ')\n",
    "            # Image name and captions are separated using a tab\n",
    "            img_name, caption = filename, line\n",
    "\n",
    "            # Each image is repeated five times for the five different captions.\n",
    "            # Each image name has a suffix `#(caption_number)`\n",
    "            # img_name = img_name.split(\"#\")[0]\n",
    "            img_name = os.path.join(PATH+'IMAGES/', img_name.strip()[:-3]+'png')\n",
    "\n",
    "            # We will remove caption that are either too short to too long\n",
    "            # tokens = words\n",
    "\n",
    "            # if len(tokens) < 5 or len(tokens) > SEQ_LENGTH:\n",
    "            #     images_to_skip.add(img_name)\n",
    "            #     continue\n",
    "\n",
    "            # if img_name.endswith(\"jpg\") and img_name not in images_to_skip:\n",
    "            #     # We will add a start and an end token to each caption\n",
    "            caption = \"<start> \" + caption.strip() + \" <end>\"\n",
    "            text_data.append(caption)\n",
    "\n",
    "            if img_name in caption_mapping:\n",
    "                caption_mapping[img_name].append(caption)\n",
    "            else:\n",
    "                caption_mapping[img_name] = [caption]\n",
    "\n",
    "        # for img_name in images_to_skip:\n",
    "        #   if img_name in caption_mapping:\n",
    "        #       del caption_mapping[img_name]\n",
    "\n",
    "    return caption_mapping, text_data\n",
    "\n",
    "\n",
    "def train_val_split(caption_data, train_size=0.8, shuffle=True):\n",
    "    \"\"\"Split the captioning dataset into train and validation sets.\n",
    "\n",
    "    Args:\n",
    "        caption_data (dict): Dictionary containing the mapped caption data\n",
    "        train_size (float): Fraction of all the full dataset to use as training data\n",
    "        shuffle (bool): Whether to shuffle the dataset before splitting\n",
    "\n",
    "    Returns:\n",
    "        Traning and validation datasets as two separated dicts\n",
    "    \"\"\"\n",
    "\n",
    "    # 1. Get the list of all image names\n",
    "    all_images = list(caption_data.keys())\n",
    "\n",
    "    # 2. Shuffle if necessary\n",
    "    if shuffle:\n",
    "        np.random.shuffle(all_images)\n",
    "\n",
    "    # 3. Split into training and validation sets\n",
    "    train_size = int(len(caption_data) * train_size)\n",
    "\n",
    "    training_data = {\n",
    "        img_name: caption_data[img_name] for img_name in all_images[:train_size]\n",
    "    }\n",
    "    validation_data = {\n",
    "        img_name: caption_data[img_name] for img_name in all_images[train_size:]\n",
    "    }\n",
    "\n",
    "    # 4. Return the splits\n",
    "    return training_data, validation_data\n",
    "\n",
    "\n",
    "# Load the dataset\n",
    "captions_mapping, text_data = load_captions_data()\n",
    "\n",
    "# Split the dataset into training and validation sets\n",
    "train_data, valid_data = train_val_split(captions_mapping)\n",
    "print(\"Number of training samples: \", len(train_data))\n",
    "print(\"Number of validation samples: \", len(valid_data))\n"
   ]
  },
  {
   "cell_type": "code",
   "execution_count": 4,
   "metadata": {
    "colab": {
     "base_uri": "https://localhost:8080/"
    },
    "executionInfo": {
     "elapsed": 17,
     "status": "ok",
     "timestamp": 1660033588428,
     "user": {
      "displayName": "anagha bhople",
      "userId": "17748642699824049852"
     },
     "user_tz": -330
    },
    "id": "s_fcXxjhiqpa",
    "outputId": "62017da4-1bbd-42fc-edb3-e74ec77dda89"
   },
   "outputs": [],
   "source": [
    "# Fixed length allowed for any sequence\n",
    "SEQ_LENGTH = max([len(x.split()) for x in text_data]) + 50"
   ]
  },
  {
   "cell_type": "code",
   "execution_count": 5,
   "metadata": {
    "executionInfo": {
     "elapsed": 3441,
     "status": "ok",
     "timestamp": 1660033591863,
     "user": {
      "displayName": "anagha bhople",
      "userId": "17748642699824049852"
     },
     "user_tz": -330
    },
    "id": "SRdyrWNOjwN_"
   },
   "outputs": [
    {
     "name": "stderr",
     "output_type": "stream",
     "text": [
      "2022-08-10 09:59:18.083022: I tensorflow/stream_executor/cuda/cuda_gpu_executor.cc:975] successful NUMA node read from SysFS had negative value (-1), but there must be at least one NUMA node, so returning NUMA node zero\n",
      "2022-08-10 09:59:18.111540: I tensorflow/stream_executor/cuda/cuda_gpu_executor.cc:975] successful NUMA node read from SysFS had negative value (-1), but there must be at least one NUMA node, so returning NUMA node zero\n",
      "2022-08-10 09:59:18.111815: I tensorflow/stream_executor/cuda/cuda_gpu_executor.cc:975] successful NUMA node read from SysFS had negative value (-1), but there must be at least one NUMA node, so returning NUMA node zero\n",
      "2022-08-10 09:59:18.112808: I tensorflow/core/platform/cpu_feature_guard.cc:193] This TensorFlow binary is optimized with oneAPI Deep Neural Network Library (oneDNN) to use the following CPU instructions in performance-critical operations:  AVX2 FMA\n",
      "To enable them in other operations, rebuild TensorFlow with the appropriate compiler flags.\n",
      "2022-08-10 09:59:18.113679: I tensorflow/stream_executor/cuda/cuda_gpu_executor.cc:975] successful NUMA node read from SysFS had negative value (-1), but there must be at least one NUMA node, so returning NUMA node zero\n",
      "2022-08-10 09:59:18.113851: I tensorflow/stream_executor/cuda/cuda_gpu_executor.cc:975] successful NUMA node read from SysFS had negative value (-1), but there must be at least one NUMA node, so returning NUMA node zero\n",
      "2022-08-10 09:59:18.113947: I tensorflow/stream_executor/cuda/cuda_gpu_executor.cc:975] successful NUMA node read from SysFS had negative value (-1), but there must be at least one NUMA node, so returning NUMA node zero\n",
      "2022-08-10 09:59:18.571435: I tensorflow/stream_executor/cuda/cuda_gpu_executor.cc:975] successful NUMA node read from SysFS had negative value (-1), but there must be at least one NUMA node, so returning NUMA node zero\n",
      "2022-08-10 09:59:18.571580: I tensorflow/stream_executor/cuda/cuda_gpu_executor.cc:975] successful NUMA node read from SysFS had negative value (-1), but there must be at least one NUMA node, so returning NUMA node zero\n",
      "2022-08-10 09:59:18.571696: I tensorflow/stream_executor/cuda/cuda_gpu_executor.cc:975] successful NUMA node read from SysFS had negative value (-1), but there must be at least one NUMA node, so returning NUMA node zero\n",
      "2022-08-10 09:59:18.571839: I tensorflow/core/common_runtime/gpu/gpu_device.cc:1532] Created device /job:localhost/replica:0/task:0/device:GPU:0 with 3706 MB memory:  -> device: 0, name: NVIDIA GeForce RTX 3060 Laptop GPU, pci bus id: 0000:01:00.0, compute capability: 8.6\n"
     ]
    }
   ],
   "source": [
    "def custom_standardization(input_string):\n",
    "    lowercase = tf.strings.lower(input_string)\n",
    "    # return lowercase\n",
    "    return tf.strings.regex_replace(lowercase, \"[%s]\" % re.escape(strip_chars), \"\")\n",
    "\n",
    "\n",
    "strip_chars = \"!\\\"#$%&'()*+,-./:;<=>?@[\\]^_`{|}~\"\n",
    "strip_chars = strip_chars.replace(\"<\", \"\")\n",
    "strip_chars = strip_chars.replace(\">\", \"\")\n",
    "\n",
    "\n",
    "vectorization = TextVectorization(\n",
    "    max_tokens=VOCAB_SIZE,\n",
    "    output_mode=\"int\",\n",
    "    output_sequence_length=SEQ_LENGTH,\n",
    "    standardize=custom_standardization,\n",
    ")\n",
    "vectorization.adapt(text_data)\n",
    "\n",
    "# Data augmentation for image data\n",
    "image_augmentation = keras.Sequential(\n",
    "    [\n",
    "        layers.RandomFlip(\"horizontal\"),\n",
    "        layers.RandomRotation(0.2),\n",
    "        layers.RandomContrast(0.3),\n",
    "    ]\n",
    ")\n"
   ]
  },
  {
   "cell_type": "code",
   "execution_count": 6,
   "metadata": {
    "colab": {
     "base_uri": "https://localhost:8080/"
    },
    "executionInfo": {
     "elapsed": 98,
     "status": "ok",
     "timestamp": 1660033591864,
     "user": {
      "displayName": "anagha bhople",
      "userId": "17748642699824049852"
     },
     "user_tz": -330
    },
    "id": "uNLMhP25fbRd",
    "outputId": "253b81b1-065c-48a0-f8f2-38f54e8080ca"
   },
   "outputs": [
    {
     "data": {
      "text/plain": [
       "['',\n",
       " '[UNK]',\n",
       " '<newline>',\n",
       " '<braces>',\n",
       " '<bracee>',\n",
       " 'text',\n",
       " 'smalltitle',\n",
       " 'quadruple',\n",
       " 'row',\n",
       " 'btninactive',\n",
       " 'btnorange',\n",
       " 'btngreen',\n",
       " 'btnred',\n",
       " 'double',\n",
       " 'header',\n",
       " 'btnactive',\n",
       " '<start>',\n",
       " '<end>',\n",
       " 'single']"
      ]
     },
     "execution_count": 6,
     "metadata": {},
     "output_type": "execute_result"
    }
   ],
   "source": [
    "vectorization.get_vocabulary()"
   ]
  },
  {
   "cell_type": "code",
   "execution_count": 7,
   "metadata": {
    "executionInfo": {
     "elapsed": 394,
     "status": "ok",
     "timestamp": 1660033592167,
     "user": {
      "displayName": "anagha bhople",
      "userId": "17748642699824049852"
     },
     "user_tz": -330
    },
    "id": "Wo0oPWMsoCU-"
   },
   "outputs": [],
   "source": [
    "def decode_and_resize(img_path):\n",
    "    img = tf.io.read_file(img_path)\n",
    "    img = tf.image.decode_png(img, channels=3)\n",
    "    img = tf.image.resize(img, IMAGE_SIZE)\n",
    "    img = tf.image.convert_image_dtype(img, tf.float32)\n",
    "    return img\n",
    "\n",
    "\n",
    "def process_input(img_path, captions):\n",
    "    return decode_and_resize(img_path), vectorization(captions)\n",
    "\n",
    "\n",
    "def make_dataset(images, captions):\n",
    "    dataset = tf.data.Dataset.from_tensor_slices((images, captions))\n",
    "    dataset = dataset.shuffle(len(images))\n",
    "    dataset = dataset.map(process_input, num_parallel_calls=AUTOTUNE)\n",
    "    dataset = dataset.batch(BATCH_SIZE).prefetch(AUTOTUNE)\n",
    "\n",
    "    return dataset\n",
    "\n",
    "# Pass the list of images and the list of corresponding captions\n",
    "train_dataset = make_dataset(list(train_data.keys()), list(train_data.values()))\n",
    "\n",
    "valid_dataset = make_dataset(list(valid_data.keys()), list(valid_data.values()))\n"
   ]
  },
  {
   "cell_type": "code",
   "execution_count": 8,
   "metadata": {
    "colab": {
     "base_uri": "https://localhost:8080/"
    },
    "executionInfo": {
     "elapsed": 14,
     "status": "ok",
     "timestamp": 1660033592169,
     "user": {
      "displayName": "anagha bhople",
      "userId": "17748642699824049852"
     },
     "user_tz": -330
    },
    "id": "I5IRB3xUoMZU",
    "outputId": "5123bab4-4fab-41a5-de2f-b5def4862a98"
   },
   "outputs": [
    {
     "data": {
      "text/plain": [
       "<PrefetchDataset element_spec=(TensorSpec(shape=(None, 512, 512, 3), dtype=tf.float32, name=None), TensorSpec(shape=(None, None, 184), dtype=tf.int64, name=None))>"
      ]
     },
     "execution_count": 8,
     "metadata": {},
     "output_type": "execute_result"
    }
   ],
   "source": [
    "train_dataset"
   ]
  },
  {
   "cell_type": "code",
   "execution_count": 9,
   "metadata": {
    "colab": {
     "base_uri": "https://localhost:8080/"
    },
    "executionInfo": {
     "elapsed": 2696,
     "status": "ok",
     "timestamp": 1660033594858,
     "user": {
      "displayName": "anagha bhople",
      "userId": "17748642699824049852"
     },
     "user_tz": -330
    },
    "id": "fHF688ZcpQ--",
    "outputId": "6c7ac64c-27da-4401-9b17-8e10763735ae"
   },
   "outputs": [],
   "source": [
    "def get_cnn_model():\n",
    "    base_model = efficientnet.EfficientNetB0(\n",
    "        input_shape=(*IMAGE_SIZE, 3), include_top=False, weights=\"imagenet\",\n",
    "    )\n",
    "    # We freeze our feature extractor\n",
    "    base_model.trainable = False\n",
    "    base_model_out = base_model.output\n",
    "    base_model_out = layers.Reshape((-1, base_model_out.shape[-1]))(base_model_out)\n",
    "    cnn_model = keras.models.Model(base_model.input, base_model_out)\n",
    "    return cnn_model\n",
    "\n",
    "\n",
    "class TransformerEncoderBlock(layers.Layer):\n",
    "    def __init__(self, embed_dim, dense_dim, num_heads, **kwargs):\n",
    "        super().__init__(**kwargs)\n",
    "        self.embed_dim = embed_dim\n",
    "        self.dense_dim = dense_dim\n",
    "        self.num_heads = num_heads\n",
    "        self.attention_1 = layers.MultiHeadAttention(\n",
    "            num_heads=num_heads, key_dim=embed_dim, dropout=0.0\n",
    "        )\n",
    "        self.layernorm_1 = layers.LayerNormalization()\n",
    "        self.layernorm_2 = layers.LayerNormalization()\n",
    "        self.dense_1 = layers.Dense(embed_dim, activation=\"relu\")\n",
    "\n",
    "    def call(self, inputs, training, mask=None):\n",
    "        inputs = self.layernorm_1(inputs)\n",
    "        inputs = self.dense_1(inputs)\n",
    "\n",
    "        attention_output_1 = self.attention_1(\n",
    "            query=inputs,\n",
    "            value=inputs,\n",
    "            key=inputs,\n",
    "            attention_mask=None,\n",
    "            training=training,\n",
    "        )\n",
    "        out_1 = self.layernorm_2(inputs + attention_output_1)\n",
    "        return out_1\n",
    "\n",
    "\n",
    "class PositionalEmbedding(layers.Layer):\n",
    "    def __init__(self, sequence_length, vocab_size, embed_dim, **kwargs):\n",
    "        super().__init__(**kwargs)\n",
    "        self.token_embeddings = layers.Embedding(\n",
    "            input_dim=vocab_size, output_dim=embed_dim\n",
    "        )\n",
    "        self.position_embeddings = layers.Embedding(\n",
    "            input_dim=sequence_length, output_dim=embed_dim\n",
    "        )\n",
    "        self.sequence_length = sequence_length\n",
    "        self.vocab_size = vocab_size\n",
    "        self.embed_dim = embed_dim\n",
    "        self.embed_scale = tf.math.sqrt(tf.cast(embed_dim, tf.float32))\n",
    "\n",
    "    def call(self, inputs):\n",
    "        length = tf.shape(inputs)[-1]\n",
    "        positions = tf.range(start=0, limit=length, delta=1)\n",
    "        embedded_tokens = self.token_embeddings(inputs)\n",
    "        embedded_tokens = embedded_tokens * self.embed_scale\n",
    "        embedded_positions = self.position_embeddings(positions)\n",
    "        return embedded_tokens + embedded_positions\n",
    "\n",
    "    def compute_mask(self, inputs, mask=None):\n",
    "        return tf.math.not_equal(inputs, 0)\n",
    "\n",
    "\n",
    "class TransformerDecoderBlock(layers.Layer):\n",
    "    def __init__(self, embed_dim, ff_dim, num_heads, **kwargs):\n",
    "        super().__init__(**kwargs)\n",
    "        self.embed_dim = embed_dim\n",
    "        self.ff_dim = ff_dim\n",
    "        self.num_heads = num_heads\n",
    "        self.attention_1 = layers.MultiHeadAttention(\n",
    "            num_heads=num_heads, key_dim=embed_dim, dropout=0.1\n",
    "        )\n",
    "        self.attention_2 = layers.MultiHeadAttention(\n",
    "            num_heads=num_heads, key_dim=embed_dim, dropout=0.1\n",
    "        )\n",
    "        self.ffn_layer_1 = layers.Dense(ff_dim, activation=\"relu\")\n",
    "        self.ffn_layer_2 = layers.Dense(embed_dim)\n",
    "\n",
    "        self.layernorm_1 = layers.LayerNormalization()\n",
    "        self.layernorm_2 = layers.LayerNormalization()\n",
    "        self.layernorm_3 = layers.LayerNormalization()\n",
    "\n",
    "        self.embedding = PositionalEmbedding(\n",
    "            embed_dim=EMBED_DIM, sequence_length=SEQ_LENGTH, vocab_size=VOCAB_SIZE\n",
    "        )\n",
    "        self.out = layers.Dense(VOCAB_SIZE, activation=\"softmax\")\n",
    "\n",
    "        self.dropout_1 = layers.Dropout(0.3)\n",
    "        self.dropout_2 = layers.Dropout(0.5)\n",
    "        self.supports_masking = True\n",
    "\n",
    "    def call(self, inputs, encoder_outputs, training, mask=None):\n",
    "        inputs = self.embedding(inputs)\n",
    "        causal_mask = self.get_causal_attention_mask(inputs)\n",
    "\n",
    "        if mask is not None:\n",
    "            padding_mask = tf.cast(mask[:, :, tf.newaxis], dtype=tf.int32)\n",
    "            combined_mask = tf.cast(mask[:, tf.newaxis, :], dtype=tf.int32)\n",
    "            combined_mask = tf.minimum(combined_mask, causal_mask)\n",
    "\n",
    "        attention_output_1 = self.attention_1(\n",
    "            query=inputs,\n",
    "            value=inputs,\n",
    "            key=inputs,\n",
    "            attention_mask=combined_mask,\n",
    "            training=training,\n",
    "        )\n",
    "        out_1 = self.layernorm_1(inputs + attention_output_1)\n",
    "\n",
    "        attention_output_2 = self.attention_2(\n",
    "            query=out_1,\n",
    "            value=encoder_outputs,\n",
    "            key=encoder_outputs,\n",
    "            attention_mask=padding_mask,\n",
    "            training=training,\n",
    "        )\n",
    "        out_2 = self.layernorm_2(out_1 + attention_output_2)\n",
    "\n",
    "        ffn_out = self.ffn_layer_1(out_2)\n",
    "        ffn_out = self.dropout_1(ffn_out, training=training)\n",
    "        ffn_out = self.ffn_layer_2(ffn_out)\n",
    "\n",
    "        ffn_out = self.layernorm_3(ffn_out + out_2, training=training)\n",
    "        ffn_out = self.dropout_2(ffn_out, training=training)\n",
    "        preds = self.out(ffn_out)\n",
    "        return preds\n",
    "\n",
    "    def get_causal_attention_mask(self, inputs):\n",
    "        input_shape = tf.shape(inputs)\n",
    "        batch_size, sequence_length = input_shape[0], input_shape[1]\n",
    "        i = tf.range(sequence_length)[:, tf.newaxis]\n",
    "        j = tf.range(sequence_length)\n",
    "        mask = tf.cast(i >= j, dtype=\"int32\")\n",
    "        mask = tf.reshape(mask, (1, input_shape[1], input_shape[1]))\n",
    "        mult = tf.concat(\n",
    "            [tf.expand_dims(batch_size, -1), tf.constant([1, 1], dtype=tf.int32)],\n",
    "            axis=0,\n",
    "        )\n",
    "        return tf.tile(mask, mult)\n",
    "\n",
    "\n",
    "class ImageCaptioningModel(keras.Model):\n",
    "    def __init__(\n",
    "        self, cnn_model, encoder, decoder, num_captions_per_image=1, image_aug=None,\n",
    "    ):\n",
    "        super().__init__()\n",
    "        self.cnn_model = cnn_model\n",
    "        self.encoder = encoder\n",
    "        self.decoder = decoder\n",
    "        self.loss_tracker = keras.metrics.Mean(name=\"loss\")\n",
    "        self.acc_tracker = keras.metrics.Mean(name=\"accuracy\")\n",
    "        self.num_captions_per_image = num_captions_per_image\n",
    "        self.image_aug = image_aug\n",
    "\n",
    "    def calculate_loss(self, y_true, y_pred, mask):\n",
    "        loss = self.loss(y_true, y_pred)\n",
    "        mask = tf.cast(mask, dtype=loss.dtype)\n",
    "        loss *= mask\n",
    "        return tf.reduce_sum(loss) / tf.reduce_sum(mask)\n",
    "\n",
    "    def calculate_accuracy(self, y_true, y_pred, mask):\n",
    "        accuracy = tf.equal(y_true, tf.argmax(y_pred, axis=2))\n",
    "        accuracy = tf.math.logical_and(mask, accuracy)\n",
    "        accuracy = tf.cast(accuracy, dtype=tf.float32)\n",
    "        mask = tf.cast(mask, dtype=tf.float32)\n",
    "        return tf.reduce_sum(accuracy) / tf.reduce_sum(mask)\n",
    "\n",
    "    def _compute_caption_loss_and_acc(self, img_embed, batch_seq, training=True):\n",
    "        encoder_out = self.encoder(img_embed, training=training)\n",
    "        batch_seq_inp = batch_seq[:, :-1]\n",
    "        batch_seq_true = batch_seq[:, 1:]\n",
    "        mask = tf.math.not_equal(batch_seq_true, 0)\n",
    "        batch_seq_pred = self.decoder(\n",
    "            batch_seq_inp, encoder_out, training=training, mask=mask\n",
    "        )\n",
    "        loss = self.calculate_loss(batch_seq_true, batch_seq_pred, mask)\n",
    "        acc = self.calculate_accuracy(batch_seq_true, batch_seq_pred, mask)\n",
    "        return loss, acc\n",
    "\n",
    "    def train_step(self, batch_data):\n",
    "        batch_img, batch_seq = batch_data\n",
    "        batch_loss = 0\n",
    "        batch_acc = 0\n",
    "\n",
    "        if self.image_aug:\n",
    "            batch_img = self.image_aug(batch_img)\n",
    "\n",
    "        # 1. Get image embeddings\n",
    "        img_embed = self.cnn_model(batch_img)\n",
    "\n",
    "        # 2. Pass each of the five captions one by one to the decoder\n",
    "        # along with the encoder outputs and compute the loss as well as accuracy\n",
    "        # for each caption.\n",
    "        for i in range(self.num_captions_per_image):\n",
    "            with tf.GradientTape() as tape:\n",
    "                loss, acc = self._compute_caption_loss_and_acc(\n",
    "                    img_embed, batch_seq[:, i, :], training=True\n",
    "                )\n",
    "\n",
    "                # 3. Update loss and accuracy\n",
    "                batch_loss += loss\n",
    "                batch_acc += acc\n",
    "\n",
    "            # 4. Get the list of all the trainable weights\n",
    "            train_vars = (\n",
    "                self.encoder.trainable_variables + self.decoder.trainable_variables\n",
    "            )\n",
    "\n",
    "            # 5. Get the gradients\n",
    "            grads = tape.gradient(loss, train_vars)\n",
    "\n",
    "            # 6. Update the trainable weights\n",
    "            self.optimizer.apply_gradients(zip(grads, train_vars))\n",
    "\n",
    "        # 7. Update the trackers\n",
    "        batch_acc /= float(self.num_captions_per_image)\n",
    "        self.loss_tracker.update_state(batch_loss)\n",
    "        self.acc_tracker.update_state(batch_acc)\n",
    "\n",
    "        # 8. Return the loss and accuracy values\n",
    "        return {\"loss\": self.loss_tracker.result(), \"acc\": self.acc_tracker.result()}\n",
    "\n",
    "    def test_step(self, batch_data):\n",
    "        batch_img, batch_seq = batch_data\n",
    "        batch_loss = 0\n",
    "        batch_acc = 0\n",
    "\n",
    "        # 1. Get image embeddings\n",
    "        img_embed = self.cnn_model(batch_img)\n",
    "\n",
    "        # 2. Pass each of the five captions one by one to the decoder\n",
    "        # along with the encoder outputs and compute the loss as well as accuracy\n",
    "        # for each caption.\n",
    "        for i in range(self.num_captions_per_image):\n",
    "            loss, acc = self._compute_caption_loss_and_acc(\n",
    "                img_embed, batch_seq[:, i, :], training=False\n",
    "            )\n",
    "\n",
    "            # 3. Update batch loss and batch accuracy\n",
    "            batch_loss += loss\n",
    "            batch_acc += acc\n",
    "\n",
    "        batch_acc /= float(self.num_captions_per_image)\n",
    "\n",
    "        # 4. Update the trackers\n",
    "        self.loss_tracker.update_state(batch_loss)\n",
    "        self.acc_tracker.update_state(batch_acc)\n",
    "\n",
    "        # 5. Return the loss and accuracy values\n",
    "        return {\"loss\": self.loss_tracker.result(), \"acc\": self.acc_tracker.result()}\n",
    "\n",
    "    @property\n",
    "    def metrics(self):\n",
    "        # We need to list our metrics here so the `reset_states()` can be\n",
    "        # called automatically.\n",
    "        return [self.loss_tracker, self.acc_tracker]\n",
    "\n",
    "\n",
    "cnn_model = get_cnn_model()\n",
    "encoder = TransformerEncoderBlock(embed_dim=EMBED_DIM, dense_dim=FF_DIM, num_heads=1)\n",
    "decoder = TransformerDecoderBlock(embed_dim=EMBED_DIM, ff_dim=FF_DIM, num_heads=2)\n",
    "caption_model = ImageCaptioningModel(\n",
    "    cnn_model=cnn_model, encoder=encoder, decoder=decoder, image_aug=image_augmentation,\n",
    ")\n"
   ]
  },
  {
   "cell_type": "code",
   "execution_count": 10,
   "metadata": {
    "colab": {
     "base_uri": "https://localhost:8080/"
    },
    "executionInfo": {
     "elapsed": 166069,
     "status": "ok",
     "timestamp": 1660033760920,
     "user": {
      "displayName": "anagha bhople",
      "userId": "17748642699824049852"
     },
     "user_tz": -330
    },
    "id": "3webOUwRpcNl",
    "outputId": "e229ced9-9d38-4880-d0a3-9df438b7ec93"
   },
   "outputs": [
    {
     "name": "stdout",
     "output_type": "stream",
     "text": [
      "Epoch 1/100\n"
     ]
    },
    {
     "name": "stderr",
     "output_type": "stream",
     "text": [
      "2022-08-10 09:59:24.022006: I tensorflow/stream_executor/cuda/cuda_dnn.cc:384] Loaded cuDNN version 8401\n",
      "2022-08-10 09:59:24.043697: I tensorflow/stream_executor/cuda/cuda_blas.cc:1786] TensorFloat-32 will be used for the matrix multiplication. This will only be logged once.\n",
      "2022-08-10 09:59:24.880454: I tensorflow/core/platform/default/subprocess.cc:304] Start cannot spawn child process: No such file or directory\n",
      "2022-08-10 09:59:25.103588: W tensorflow/core/common_runtime/bfc_allocator.cc:290] Allocator (GPU_0_bfc) ran out of memory trying to allocate 1.53GiB with freed_by_count=0. The caller indicates that this is not a failure, but this may mean that there could be performance gains if more memory were available.\n",
      "2022-08-10 09:59:25.103642: W tensorflow/core/common_runtime/bfc_allocator.cc:290] Allocator (GPU_0_bfc) ran out of memory trying to allocate 1.53GiB with freed_by_count=0. The caller indicates that this is not a failure, but this may mean that there could be performance gains if more memory were available.\n"
     ]
    },
    {
     "name": "stdout",
     "output_type": "stream",
     "text": [
      "8/8 [==============================] - 11s 704ms/step - loss: 7.0586 - acc: 0.0023 - val_loss: 5.4357 - val_acc: 0.1875\n",
      "Epoch 2/100\n",
      "8/8 [==============================] - 3s 397ms/step - loss: 4.5378 - acc: 0.1378 - val_loss: 2.6309 - val_acc: 0.3583\n",
      "Epoch 3/100\n",
      "8/8 [==============================] - 3s 367ms/step - loss: 2.4306 - acc: 0.4510 - val_loss: 1.5743 - val_acc: 0.6714\n",
      "Epoch 4/100\n",
      "8/8 [==============================] - 3s 368ms/step - loss: 1.6954 - acc: 0.5660 - val_loss: 1.0667 - val_acc: 0.6853\n",
      "Epoch 5/100\n",
      "8/8 [==============================] - 3s 366ms/step - loss: 1.2534 - acc: 0.6497 - val_loss: 0.8417 - val_acc: 0.7127\n",
      "Epoch 6/100\n",
      "8/8 [==============================] - 3s 366ms/step - loss: 1.0416 - acc: 0.6822 - val_loss: 0.7515 - val_acc: 0.7136\n",
      "Epoch 7/100\n",
      "8/8 [==============================] - 3s 368ms/step - loss: 0.9243 - acc: 0.6870 - val_loss: 0.6972 - val_acc: 0.7158\n",
      "Epoch 8/100\n",
      "8/8 [==============================] - 3s 365ms/step - loss: 0.8632 - acc: 0.6961 - val_loss: 0.6556 - val_acc: 0.7333\n",
      "Epoch 9/100\n",
      "8/8 [==============================] - 3s 368ms/step - loss: 0.8020 - acc: 0.7105 - val_loss: 0.6171 - val_acc: 0.7405\n",
      "Epoch 10/100\n",
      "8/8 [==============================] - 3s 366ms/step - loss: 0.7603 - acc: 0.7258 - val_loss: 0.5949 - val_acc: 0.7507\n",
      "Epoch 11/100\n",
      "8/8 [==============================] - 3s 392ms/step - loss: 0.7303 - acc: 0.7305 - val_loss: 0.5615 - val_acc: 0.7723\n",
      "Epoch 12/100\n",
      "8/8 [==============================] - 3s 381ms/step - loss: 0.7073 - acc: 0.7360 - val_loss: 0.5538 - val_acc: 0.7717\n",
      "Epoch 13/100\n",
      "8/8 [==============================] - 3s 372ms/step - loss: 0.6830 - acc: 0.7420 - val_loss: 0.5626 - val_acc: 0.7701\n",
      "Epoch 14/100\n",
      "8/8 [==============================] - 3s 394ms/step - loss: 0.6812 - acc: 0.7427 - val_loss: 0.5221 - val_acc: 0.8023\n",
      "Epoch 15/100\n",
      "8/8 [==============================] - 3s 391ms/step - loss: 0.6551 - acc: 0.7522 - val_loss: 0.5041 - val_acc: 0.8017\n",
      "Epoch 16/100\n",
      "8/8 [==============================] - 3s 398ms/step - loss: 0.6286 - acc: 0.7571 - val_loss: 0.4975 - val_acc: 0.7750\n",
      "Epoch 17/100\n",
      "8/8 [==============================] - 3s 389ms/step - loss: 0.6043 - acc: 0.7704 - val_loss: 0.4726 - val_acc: 0.8210\n",
      "Epoch 18/100\n",
      "8/8 [==============================] - 3s 388ms/step - loss: 0.5902 - acc: 0.7716 - val_loss: 0.4583 - val_acc: 0.8249\n",
      "Epoch 19/100\n",
      "8/8 [==============================] - 3s 383ms/step - loss: 0.5812 - acc: 0.7756 - val_loss: 0.4539 - val_acc: 0.8289\n",
      "Epoch 20/100\n",
      "8/8 [==============================] - 3s 384ms/step - loss: 0.5705 - acc: 0.7754 - val_loss: 0.4462 - val_acc: 0.7988\n",
      "Epoch 21/100\n",
      "8/8 [==============================] - 3s 386ms/step - loss: 0.5577 - acc: 0.7859 - val_loss: 0.4226 - val_acc: 0.8334\n",
      "Epoch 22/100\n",
      "8/8 [==============================] - 3s 386ms/step - loss: 0.5375 - acc: 0.7866 - val_loss: 0.4040 - val_acc: 0.8413\n",
      "Epoch 23/100\n",
      "8/8 [==============================] - 3s 384ms/step - loss: 0.5199 - acc: 0.7948 - val_loss: 0.3910 - val_acc: 0.8429\n",
      "Epoch 24/100\n",
      "8/8 [==============================] - 3s 390ms/step - loss: 0.5143 - acc: 0.8022 - val_loss: 0.3737 - val_acc: 0.8506\n",
      "Epoch 25/100\n",
      "8/8 [==============================] - 3s 389ms/step - loss: 0.4931 - acc: 0.8040 - val_loss: 0.3512 - val_acc: 0.8737\n",
      "Epoch 26/100\n",
      "8/8 [==============================] - 3s 390ms/step - loss: 0.4784 - acc: 0.8119 - val_loss: 0.3369 - val_acc: 0.8809\n",
      "Epoch 27/100\n",
      "8/8 [==============================] - 3s 385ms/step - loss: 0.4607 - acc: 0.8181 - val_loss: 0.3115 - val_acc: 0.8767\n",
      "Epoch 28/100\n",
      "8/8 [==============================] - 3s 377ms/step - loss: 0.4431 - acc: 0.8295 - val_loss: 0.3165 - val_acc: 0.8597\n",
      "Epoch 29/100\n",
      "8/8 [==============================] - 3s 386ms/step - loss: 0.4293 - acc: 0.8279 - val_loss: 0.2885 - val_acc: 0.8708\n",
      "Epoch 30/100\n",
      "8/8 [==============================] - 3s 391ms/step - loss: 0.4247 - acc: 0.8296 - val_loss: 0.2741 - val_acc: 0.8962\n",
      "Epoch 31/100\n",
      "8/8 [==============================] - 3s 384ms/step - loss: 0.4083 - acc: 0.8391 - val_loss: 0.2705 - val_acc: 0.8907\n",
      "Epoch 32/100\n",
      "8/8 [==============================] - 3s 392ms/step - loss: 0.4041 - acc: 0.8408 - val_loss: 0.3005 - val_acc: 0.8611\n",
      "Epoch 33/100\n",
      "8/8 [==============================] - 3s 380ms/step - loss: 0.4045 - acc: 0.8348 - val_loss: 0.2895 - val_acc: 0.8667\n",
      "Epoch 34/100\n",
      "8/8 [==============================] - 3s 389ms/step - loss: 0.3910 - acc: 0.8395 - val_loss: 0.2640 - val_acc: 0.8902\n",
      "Epoch 35/100\n",
      "8/8 [==============================] - 3s 378ms/step - loss: 0.3900 - acc: 0.8445 - val_loss: 0.2540 - val_acc: 0.8967\n",
      "Epoch 36/100\n",
      "8/8 [==============================] - 3s 382ms/step - loss: 0.3621 - acc: 0.8512 - val_loss: 0.2405 - val_acc: 0.8984\n",
      "Epoch 37/100\n",
      "8/8 [==============================] - 3s 385ms/step - loss: 0.3590 - acc: 0.8548 - val_loss: 0.2230 - val_acc: 0.9084\n",
      "Epoch 38/100\n",
      "8/8 [==============================] - 3s 376ms/step - loss: 0.3429 - acc: 0.8612 - val_loss: 0.2279 - val_acc: 0.9049\n",
      "Epoch 39/100\n",
      "8/8 [==============================] - 3s 382ms/step - loss: 0.3391 - acc: 0.8615 - val_loss: 0.2356 - val_acc: 0.8982\n",
      "Epoch 40/100\n",
      "8/8 [==============================] - 3s 384ms/step - loss: 0.3346 - acc: 0.8601 - val_loss: 0.2123 - val_acc: 0.9140\n",
      "Epoch 41/100\n",
      "8/8 [==============================] - 3s 386ms/step - loss: 0.3215 - acc: 0.8706 - val_loss: 0.2011 - val_acc: 0.9207\n",
      "Epoch 42/100\n",
      "8/8 [==============================] - 3s 382ms/step - loss: 0.3176 - acc: 0.8692 - val_loss: 0.2033 - val_acc: 0.9185\n",
      "Epoch 43/100\n",
      "8/8 [==============================] - 3s 390ms/step - loss: 0.3159 - acc: 0.8684 - val_loss: 0.1990 - val_acc: 0.9266\n",
      "Epoch 44/100\n",
      "8/8 [==============================] - 3s 414ms/step - loss: 0.3041 - acc: 0.8750 - val_loss: 0.1897 - val_acc: 0.9283\n",
      "Epoch 45/100\n",
      "8/8 [==============================] - 3s 417ms/step - loss: 0.2997 - acc: 0.8776 - val_loss: 0.1867 - val_acc: 0.9277\n",
      "Epoch 46/100\n",
      "8/8 [==============================] - 3s 404ms/step - loss: 0.2920 - acc: 0.8772 - val_loss: 0.1830 - val_acc: 0.9284\n",
      "Epoch 47/100\n",
      "8/8 [==============================] - 3s 406ms/step - loss: 0.2961 - acc: 0.8786 - val_loss: 0.2059 - val_acc: 0.9124\n",
      "Epoch 48/100\n",
      "8/8 [==============================] - 3s 391ms/step - loss: 0.2901 - acc: 0.8821 - val_loss: 0.1883 - val_acc: 0.9238\n",
      "Epoch 49/100\n",
      "8/8 [==============================] - 4s 445ms/step - loss: 0.2822 - acc: 0.8857 - val_loss: 0.1870 - val_acc: 0.9220\n"
     ]
    },
    {
     "data": {
      "text/plain": [
       "<keras.callbacks.History at 0x7f3570035880>"
      ]
     },
     "execution_count": 10,
     "metadata": {},
     "output_type": "execute_result"
    }
   ],
   "source": [
    "# Define the loss function\n",
    "cross_entropy = keras.losses.SparseCategoricalCrossentropy(\n",
    "    from_logits=False, reduction=\"none\"\n",
    ")\n",
    "\n",
    "# EarlyStopping criteria\n",
    "early_stopping = keras.callbacks.EarlyStopping(patience=3, restore_best_weights=True)\n",
    "\n",
    "\n",
    "# Learning Rate Scheduler for the optimizer\n",
    "class LRSchedule(keras.optimizers.schedules.LearningRateSchedule):\n",
    "    def __init__(self, post_warmup_learning_rate, warmup_steps):\n",
    "        super().__init__()\n",
    "        self.post_warmup_learning_rate = post_warmup_learning_rate\n",
    "        self.warmup_steps = warmup_steps\n",
    "\n",
    "    def __call__(self, step):\n",
    "        global_step = tf.cast(step, tf.float32)\n",
    "        warmup_steps = tf.cast(self.warmup_steps, tf.float32)\n",
    "        warmup_progress = global_step / warmup_steps\n",
    "        warmup_learning_rate = self.post_warmup_learning_rate * warmup_progress\n",
    "        return tf.cond(\n",
    "            global_step < warmup_steps,\n",
    "            lambda: warmup_learning_rate,\n",
    "            lambda: self.post_warmup_learning_rate,\n",
    "        )\n",
    "\n",
    "\n",
    "# Create a learning rate schedule\n",
    "num_train_steps = len(train_dataset) * EPOCHS\n",
    "num_warmup_steps = num_train_steps // 15\n",
    "lr_schedule = LRSchedule(post_warmup_learning_rate=1e-4, warmup_steps=num_warmup_steps)\n",
    "\n",
    "# Compile the model\n",
    "caption_model.compile(optimizer=keras.optimizers.Adam(lr_schedule), loss=cross_entropy)\n",
    "\n",
    "# Fit the model\n",
    "caption_model.fit(\n",
    "    train_dataset,\n",
    "    epochs=100,\n",
    "    validation_data=valid_dataset,\n",
    "    callbacks=[early_stopping],verbose=True)\n"
   ]
  },
  {
   "cell_type": "code",
   "execution_count": 11,
   "metadata": {
    "colab": {
     "base_uri": "https://localhost:8080/"
    },
    "executionInfo": {
     "elapsed": 354376,
     "status": "ok",
     "timestamp": 1660034115285,
     "user": {
      "displayName": "anagha bhople",
      "userId": "17748642699824049852"
     },
     "user_tz": -330
    },
    "id": "FZYsCA9fjECv",
    "outputId": "0f64a7ca-0030-4f4a-d61f-3f351bf90b5c"
   },
   "outputs": [
    {
     "name": "stdout",
     "output_type": "stream",
     "text": [
      "Model Saved!\n"
     ]
    }
   ],
   "source": [
    "caption_model.save_weights(\"../models/D1_weights\")\n",
    "print('Model Saved!')"
   ]
  },
  {
   "cell_type": "code",
   "execution_count": 15,
   "metadata": {
    "colab": {
     "base_uri": "https://localhost:8080/",
     "height": 845
    },
    "executionInfo": {
     "elapsed": 5310,
     "status": "ok",
     "timestamp": 1660034120591,
     "user": {
      "displayName": "anagha bhople",
      "userId": "17748642699824049852"
     },
     "user_tz": -330
    },
    "id": "eLw-HHi-t7Qc",
    "outputId": "936341ce-5398-4bd9-807a-5a960d66ef87"
   },
   "outputs": [
    {
     "data": {
      "image/png": "[encoded data removed]",
      "text/plain": [
       "<Figure size 432x288 with 1 Axes>"
      ]
     },
     "metadata": {
      "needs_background": "light"
     },
     "output_type": "display_data"
    },
    {
     "name": "stdout",
     "output_type": "stream",
     "text": [
      "Predicted Caption:  header { \n",
      " btninactive btninactive btnactive btninactive \n",
      " } \n",
      " row { \n",
      " single { \n",
      " smalltitle text btngreen \n",
      " } \n",
      " } \n",
      " row { \n",
      " double { \n",
      " smalltitle text btngreen \n",
      " } \n",
      " double { \n",
      " smalltitle text btnorange \n",
      " } \n",
      " } \n",
      " row { \n",
      " quadruple { \n",
      " smalltitle text btnorange \n",
      " } \n",
      " quadruple { \n",
      " smalltitle text btnorange \n",
      " } \n",
      " quadruple { \n",
      " smalltitle text btngreen \n",
      " } \n",
      " quadruple { \n",
      " smalltitle text btngreen \n",
      " } \n",
      " }\n"
     ]
    },
    {
     "data": {
      "image/png": "[encoded data removed]",
      "text/plain": [
       "<Figure size 432x288 with 1 Axes>"
      ]
     },
     "metadata": {
      "needs_background": "light"
     },
     "output_type": "display_data"
    },
    {
     "name": "stdout",
     "output_type": "stream",
     "text": [
      "Predicted Caption:  header { \n",
      " btninactive btnactive btninactive \n",
      " } \n",
      " row { \n",
      " double { \n",
      " smalltitle text btnred \n",
      " } \n",
      " double { \n",
      " smalltitle text btnred \n",
      " } \n",
      " } \n",
      " row { \n",
      " single { \n",
      " smalltitle text btnred \n",
      " } \n",
      " } \n",
      " row { \n",
      " quadruple { \n",
      " smalltitle text btnred \n",
      " } \n",
      " quadruple { \n",
      " smalltitle text btnred \n",
      " } \n",
      " quadruple { \n",
      " smalltitle text btnred \n",
      " } \n",
      " quadruple { \n",
      " smalltitle text btnred \n",
      " } \n",
      " }\n"
     ]
    },
    {
     "data": {
      "image/png": "[encoded data removed]",
      "text/plain": [
       "<Figure size 432x288 with 1 Axes>"
      ]
     },
     "metadata": {
      "needs_background": "light"
     },
     "output_type": "display_data"
    },
    {
     "name": "stdout",
     "output_type": "stream",
     "text": [
      "Predicted Caption:  header { \n",
      " btninactive btnactive btninactive \n",
      " } \n",
      " row { \n",
      " double { \n",
      " smalltitle text btngreen \n",
      " } \n",
      " double { \n",
      " smalltitle text btngreen \n",
      " } \n",
      " } \n",
      " row { \n",
      " quadruple { \n",
      " smalltitle text btngreen \n",
      " } \n",
      " quadruple { \n",
      " smalltitle text btngreen \n",
      " } \n",
      " quadruple { \n",
      " smalltitle text btngreen \n",
      " } \n",
      " } \n",
      " row { \n",
      " double { \n",
      " smalltitle text btngreen \n",
      " } \n",
      " single { \n",
      " smalltitle text btngreen \n",
      " } \n",
      " }\n"
     ]
    }
   ],
   "source": [
    "vocab = vectorization.get_vocabulary()\n",
    "index_lookup = dict(zip(range(len(vocab)), vocab))\n",
    "max_decoded_sentence_length = SEQ_LENGTH - 1\n",
    "valid_images = list(valid_data.keys())\n",
    "\n",
    "\n",
    "def generate_caption():\n",
    "    # Select a random image from the validation dataset\n",
    "    sample_img = np.random.choice(valid_images)\n",
    "\n",
    "    # Read the image from the disk\n",
    "    sample_img = decode_and_resize(sample_img)\n",
    "    img = sample_img.numpy().clip(0, 255).astype(np.uint8)\n",
    "    plt.imshow(img)\n",
    "    plt.show()\n",
    "\n",
    "    # Pass the image to the CNN\n",
    "    img = tf.expand_dims(sample_img, 0)\n",
    "    img = caption_model.cnn_model(img)\n",
    "\n",
    "    # Pass the image features to the Transformer encoder\n",
    "    encoded_img = caption_model.encoder(img, training=False)\n",
    "\n",
    "    # Generate the caption using the Transformer decoder\n",
    "    decoded_caption = \"<start> \"\n",
    "    for i in range(max_decoded_sentence_length):\n",
    "        tokenized_caption = vectorization([decoded_caption])[:, :-1]\n",
    "        mask = tf.math.not_equal(tokenized_caption, 0)\n",
    "        predictions = caption_model.decoder(\n",
    "            tokenized_caption, encoded_img, training=False, mask=mask\n",
    "        )\n",
    "        sampled_token_index = np.argmax(predictions[0, i, :])\n",
    "        sampled_token = index_lookup[sampled_token_index]\n",
    "        if sampled_token == \"<end>\":\n",
    "            break\n",
    "        decoded_caption += \" \" + sampled_token\n",
    "\n",
    "    decoded_caption = decoded_caption.replace(\"<start> \", \"\")\n",
    "    decoded_caption = decoded_caption.replace(\" <end>\", \"\")\n",
    "    decoded_caption = decoded_caption.replace(\"<newline>\", \"\\n\")\n",
    "    decoded_caption = decoded_caption.replace(\"<braces>\", \"{\")\n",
    "    decoded_caption = decoded_caption.replace(\"<bracee>\", \"}\").strip()\n",
    "    print(\"Predicted Caption: \", decoded_caption)\n",
    "\n",
    "\n",
    "# Check predictions for a few samples\n",
    "generate_caption()\n",
    "generate_caption()\n",
    "generate_caption()\n"
   ]
  },
  {
   "cell_type": "code",
   "execution_count": null,
   "metadata": {
    "executionInfo": {
     "elapsed": 10,
     "status": "ok",
     "timestamp": 1660034120592,
     "user": {
      "displayName": "anagha bhople",
      "userId": "17748642699824049852"
     },
     "user_tz": -330
    },
    "id": "evaAa4gM0RZr"
   },
   "outputs": [],
   "source": []
  }
 ],
 "metadata": {
  "accelerator": "GPU",
  "colab": {
   "authorship_tag": "ABX9TyOxG2iEoC1QVvxckXJG4s3D",
   "collapsed_sections": [],
   "name": "Pure Code newline brace.ipynb",
   "provenance": []
  },
  "gpuClass": "standard",
  "kernelspec": {
   "display_name": "Python 3 (ipykernel)",
   "language": "python",
   "name": "python3"
  },
  "language_info": {
   "codemirror_mode": {
    "name": "ipython",
    "version": 3
   },
   "file_extension": ".py",
   "mimetype": "text/x-python",
   "name": "python",
   "nbconvert_exporter": "python",
   "pygments_lexer": "ipython3",
   "version": "3.8.10"
  }
 },
 "nbformat": 4,
 "nbformat_minor": 1
}
